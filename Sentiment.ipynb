{
  "nbformat": 4,
  "nbformat_minor": 0,
  "metadata": {
    "colab": {
      "name": "ML-ASSIGNMENT-1-Foram.ipynb",
      "provenance": [],
      "collapsed_sections": [],
      "toc_visible": true
    },
    "kernelspec": {
      "name": "python3",
      "display_name": "Python 3"
    },
    "language_info": {
      "name": "python"
    }
  },
  "cells": [
    {
      "cell_type": "code",
      "metadata": {
        "id": "EGdZECE-vOZd",
        "colab": {
          "base_uri": "https://localhost:8080/"
        },
        "outputId": "30025edb-f895-41bd-d897-d4f5f50cd54e"
      },
      "source": [
        "import numpy as np\n",
        "import pandas as pd\n",
        "import sklearn\n",
        "import seaborn as sns\n",
        "import nltk\n",
        "from string import punctuation\n",
        "from sklearn.feature_extraction.text import TfidfVectorizer\n",
        "from sklearn.linear_model import LogisticRegression\n",
        "from sklearn import model_selection\n",
        "from sklearn.model_selection import GridSearchCV,RepeatedStratifiedKFold,cross_val_score,train_test_split\n",
        "from sklearn.feature_extraction import text\n",
        "from sklearn.metrics import classification_report, accuracy_score\n",
        "\n",
        "\n",
        "nltk.download('punkt')\n",
        "nltk.download('stopwords')"
      ],
      "execution_count": 1,
      "outputs": [
        {
          "output_type": "stream",
          "text": [
            "[nltk_data] Downloading package punkt to /root/nltk_data...\n",
            "[nltk_data]   Unzipping tokenizers/punkt.zip.\n",
            "[nltk_data] Downloading package stopwords to /root/nltk_data...\n",
            "[nltk_data]   Unzipping corpora/stopwords.zip.\n"
          ],
          "name": "stdout"
        },
        {
          "output_type": "execute_result",
          "data": {
            "text/plain": [
              "True"
            ]
          },
          "metadata": {
            "tags": []
          },
          "execution_count": 1
        }
      ]
    },
    {
      "cell_type": "markdown",
      "metadata": {
        "id": "vAWtmA5PRrwV"
      },
      "source": [
        "# **TASK 1 : Data Loading and Preparation**"
      ]
    },
    {
      "cell_type": "code",
      "metadata": {
        "id": "SUQpAl0-zNO9",
        "colab": {
          "base_uri": "https://localhost:8080/"
        },
        "outputId": "f2fa629f-2540-4bb2-9a8a-d91d21b9a310"
      },
      "source": [
        "#Loading the data\n",
        "x_train = pd.read_csv('x_train.csv',  names=[\"Domain\", \"Review\"])\n",
        "y_train = pd.read_csv('y_train.csv', names = [\"label\"])\n",
        "x_test = pd.read_csv('x_test.csv',  names=[\"Domain\", \"Review\"])\n",
        "y_test = pd.read_csv('y_test.csv', names = [\"label\"])\n",
        "\n",
        "print(\"-------------------------------------------------------------------\")\n",
        "print(\"================= Printing reviews of train set ===================\")\n",
        "print(\"-------------------------------------------------------------------\")\n",
        "print(x_train['Review'])\n",
        "\n",
        "\n",
        "#Checking for empty rows\n",
        "print(\"-------------------------------------------------------------------\")\n",
        "print(\"==================== Checking for Empty Rows ======================\")\n",
        "print(\"-------------------------------------------------------------------\")\n",
        "empty = []\n",
        "for i in range(2399):\n",
        "    if not x_train['Review'][i]:\n",
        "        empty.append(i)\n",
        "print(empty)\n",
        "\n",
        "\n",
        "#Changing the reviews to lowercase\n",
        "print(\"-------------------------------------------------------------------\")\n",
        "print(\"=============== Changing the reviews to lowercase =================\")\n",
        "print(\"-------------------------------------------------------------------\")\n",
        "x_train_clean = x_train[\"Review\"].str.lower()\n",
        "\n",
        "print(x_train_clean)\n",
        "\n",
        "\n",
        "\n",
        "\n",
        "# Removing Punctuations from the reviews\n",
        "print(\"-------------------------------------------------------------------\")\n",
        "print(\"========== Removing Punctuatuations from the reviews ==============\")\n",
        "print(\"-------------------------------------------------------------------\")\n",
        "for i in range(2399):\n",
        "  reviews_punctuation_removed = \"\"\n",
        "  words = x_train_clean[i]\n",
        "    \n",
        "  for char in words:\n",
        "    if char not in punctuation:\n",
        "      reviews_punctuation_removed = reviews_punctuation_removed + char\n",
        "  \n",
        "  x_train_clean[i] = reviews_punctuation_removed\n",
        "\n",
        "print(x_train_clean)\n",
        "\n",
        "x_train[\"Review\"] = x_train_clean\n",
        "\n",
        "#Printing Test Review Data\n",
        "print(\"-------------------------------------------------------------------\")\n",
        "print(\"=================== Printing Test Review Data =====================\")\n",
        "print(\"-------------------------------------------------------------------\")\n",
        "print(x_test['Review'])\n",
        "\n",
        "\n",
        "\n",
        "# Dropping the rows with empty reviews\n",
        "print(\"-------------------------------------------------------------------\")\n",
        "print(\"============== Dropping the rows with empty reviews ===============\")\n",
        "print(\"-------------------------------------------------------------------\")\n",
        "empty = []\n",
        "for i in range(600):\n",
        "    if not x_test['Review'][i]:\n",
        "        empty.append(i)\n",
        "print(empty)\n",
        "\n",
        "\n",
        "\n",
        "#Changing the reviews to lowercase\n",
        "print(\"-------------------------------------------------------------------\")\n",
        "print(\"=============== Changing the reviews to lowercase =================\")\n",
        "print(\"-------------------------------------------------------------------\")\n",
        "x_test_clean = x_test[\"Review\"].str.lower()\n",
        "print(x_test_clean)\n",
        "\n",
        "\n",
        "#Removing punctuations from test review dataset\n",
        "print(\"-------------------------------------------------------------------\")\n",
        "print(\"========== Removing Punctuatuations from the reviews ==============\")\n",
        "print(\"-------------------------------------------------------------------\")\n",
        "for i in range(600):\n",
        "  reviews_punctuation_removed = \"\"\n",
        "  words = x_test_clean[i]\n",
        "    \n",
        "  for char in words:\n",
        "    if char not in punctuation:\n",
        "      reviews_punctuation_removed = reviews_punctuation_removed + char\n",
        "  \n",
        "  x_test_clean[i] = reviews_punctuation_removed\n",
        "\n",
        "print(x_test_clean)\n",
        "\n",
        "\n",
        "x_test[\"Review\"] = x_test_clean\n",
        "\n",
        "#Removing Duplicates from train and test review dataset\n",
        "print(\"--------------------------------------------------------------------------------\")\n",
        "print(\"========== Removing Duplicates from train and test review dataset ==============\")\n",
        "print(\"--------------------------------------------------------------------------------\")\n",
        "\n",
        "print(\"Duplicate data in train set\", x_train.duplicated().sum())\n",
        "print(\"Duplicate data in test set\", x_test.duplicated().sum())\n",
        "\n",
        "train_duplicates = x_train[x_train.duplicated()]\n",
        "for i in train_duplicates.index:\n",
        "  x_train = x_train.drop(i)\n",
        "  y_train = y_train.drop(i)\n",
        "\n",
        "test_duplicates = x_test[x_test.duplicated()]\n",
        "for i in test_duplicates.index:\n",
        "  x_test = x_test.drop(i)\n",
        "  y_test = y_test.drop(i)\n",
        "\n",
        "\n",
        "x_train.reset_index(drop=True)\n",
        "y_train.reset_index(drop=True)\n",
        "x_test.reset_index(drop=True)\n",
        "y_test.reset_index(drop=True)\n",
        "\n",
        "\n",
        "#After Removing Duplicates from train and test review dataset\n",
        "print(\"--------------------------------------------------------------------------------------\")\n",
        "print(\"========== After Removing Duplicates from train and test review dataset ==============\")\n",
        "print(\"--------------------------------------------------------------------------------------\")\n",
        "\n",
        "print(\"Train Data Set\")\n",
        "print(x_train['Review'])\n",
        "print('')\n",
        "print('')\n",
        "print('')\n",
        "print(\"Test Data Set\")\n",
        "print(x_test['Review'])\n",
        "\n"
      ],
      "execution_count": 2,
      "outputs": [
        {
          "output_type": "stream",
          "text": [
            "-------------------------------------------------------------------\n",
            "================= Printing reviews of train set ===================\n",
            "-------------------------------------------------------------------\n",
            "0       Oh and I forgot to also mention the weird colo...\n",
            "1                            THAT one didn't work either.\n",
            "2                                      Waste of 13 bucks.\n",
            "3       Product is useless, since it does not have eno...\n",
            "4       None of the three sizes they sent with the hea...\n",
            "                              ...                        \n",
            "2395    The sweet potato fries were very good and seas...\n",
            "2396    I could eat their bruschetta all day it is dev...\n",
            "2397                                 Ambience is perfect.\n",
            "2398    We ordered the duck rare and it was pink and t...\n",
            "2399         Service was good and the company was better!\n",
            "Name: Review, Length: 2400, dtype: object\n",
            "-------------------------------------------------------------------\n",
            "==================== Checking for Empty Rows ======================\n",
            "-------------------------------------------------------------------\n",
            "[]\n",
            "-------------------------------------------------------------------\n",
            "=============== Changing the reviews to lowercase =================\n",
            "-------------------------------------------------------------------\n",
            "0       oh and i forgot to also mention the weird colo...\n",
            "1                            that one didn't work either.\n",
            "2                                      waste of 13 bucks.\n",
            "3       product is useless, since it does not have eno...\n",
            "4       none of the three sizes they sent with the hea...\n",
            "                              ...                        \n",
            "2395    the sweet potato fries were very good and seas...\n",
            "2396    i could eat their bruschetta all day it is dev...\n",
            "2397                                 ambience is perfect.\n",
            "2398    we ordered the duck rare and it was pink and t...\n",
            "2399         service was good and the company was better!\n",
            "Name: Review, Length: 2400, dtype: object\n",
            "-------------------------------------------------------------------\n",
            "========== Removing Punctuatuations from the reviews ==============\n",
            "-------------------------------------------------------------------\n",
            "0       oh and i forgot to also mention the weird colo...\n",
            "1                              that one didnt work either\n",
            "2                                       waste of 13 bucks\n",
            "3       product is useless since it does not have enou...\n",
            "4       none of the three sizes they sent with the hea...\n",
            "                              ...                        \n",
            "2395    the sweet potato fries were very good and seas...\n",
            "2396    i could eat their bruschetta all day it is devine\n",
            "2397                                  ambience is perfect\n",
            "2398    we ordered the duck rare and it was pink and t...\n",
            "2399         service was good and the company was better!\n",
            "Name: Review, Length: 2400, dtype: object\n",
            "-------------------------------------------------------------------\n",
            "=================== Printing Test Review Data =====================\n",
            "-------------------------------------------------------------------\n",
            "0      It only recognizes the Phone as its storage de...\n",
            "1      Disappointing accessory from a good manufacturer.\n",
            "2      The one big drawback of the MP3 player is that...\n",
            "3      This particular model would not work with my M...\n",
            "4      If the two were seperated by a mere 5+ ft I st...\n",
            "                             ...                        \n",
            "595                  Everything was fresh and delicious!\n",
            "596                                               #NAME?\n",
            "597                                Pretty awesome place.\n",
            "598          The staff are great, the ambiance is great.\n",
            "599              The patio seating was very comfortable.\n",
            "Name: Review, Length: 600, dtype: object\n",
            "-------------------------------------------------------------------\n",
            "============== Dropping the rows with empty reviews ===============\n",
            "-------------------------------------------------------------------\n",
            "[]\n",
            "-------------------------------------------------------------------\n",
            "=============== Changing the reviews to lowercase =================\n",
            "-------------------------------------------------------------------\n",
            "0      it only recognizes the phone as its storage de...\n",
            "1      disappointing accessory from a good manufacturer.\n",
            "2      the one big drawback of the mp3 player is that...\n",
            "3      this particular model would not work with my m...\n",
            "4      if the two were seperated by a mere 5+ ft i st...\n",
            "                             ...                        \n",
            "595                  everything was fresh and delicious!\n",
            "596                                               #name?\n",
            "597                                pretty awesome place.\n",
            "598          the staff are great, the ambiance is great.\n",
            "599              the patio seating was very comfortable.\n",
            "Name: Review, Length: 600, dtype: object\n",
            "-------------------------------------------------------------------\n",
            "========== Removing Punctuatuations from the reviews ==============\n",
            "-------------------------------------------------------------------\n",
            "0      it only recognizes the phone as its storage de...\n",
            "1       disappointing accessory from a good manufacturer\n",
            "2      the one big drawback of the mp3 player is that...\n",
            "3      this particular model would not work with my m...\n",
            "4      if the two were seperated by a mere 5 ft i sta...\n",
            "                             ...                        \n",
            "595                   everything was fresh and delicious\n",
            "596                                                 name\n",
            "597                                 pretty awesome place\n",
            "598            the staff are great the ambiance is great\n",
            "599               the patio seating was very comfortable\n",
            "Name: Review, Length: 600, dtype: object\n",
            "--------------------------------------------------------------------------------\n",
            "========== Removing Duplicates from train and test review dataset ==============\n",
            "--------------------------------------------------------------------------------\n",
            "Duplicate data in train set 21\n",
            "Duplicate data in test set 2\n",
            "--------------------------------------------------------------------------------------\n",
            "========== After Removing Duplicates from train and test review dataset ==============\n",
            "--------------------------------------------------------------------------------------\n",
            "Train Data Set\n",
            "0       oh and i forgot to also mention the weird colo...\n",
            "1                              that one didnt work either\n",
            "2                                       waste of 13 bucks\n",
            "3       product is useless since it does not have enou...\n",
            "4       none of the three sizes they sent with the hea...\n",
            "                              ...                        \n",
            "2395    the sweet potato fries were very good and seas...\n",
            "2396    i could eat their bruschetta all day it is devine\n",
            "2397                                  ambience is perfect\n",
            "2398    we ordered the duck rare and it was pink and t...\n",
            "2399         service was good and the company was better!\n",
            "Name: Review, Length: 2379, dtype: object\n",
            "\n",
            "\n",
            "\n",
            "Test Data Set\n",
            "0      it only recognizes the phone as its storage de...\n",
            "1       disappointing accessory from a good manufacturer\n",
            "2      the one big drawback of the mp3 player is that...\n",
            "3      this particular model would not work with my m...\n",
            "4      if the two were seperated by a mere 5 ft i sta...\n",
            "                             ...                        \n",
            "594                   the jamaican mojitos are delicious\n",
            "595                   everything was fresh and delicious\n",
            "597                                 pretty awesome place\n",
            "598            the staff are great the ambiance is great\n",
            "599               the patio seating was very comfortable\n",
            "Name: Review, Length: 598, dtype: object\n"
          ],
          "name": "stdout"
        }
      ]
    },
    {
      "cell_type": "markdown",
      "metadata": {
        "id": "OMjQjXYoTenX"
      },
      "source": [
        "# **TASK 2: Feature Representation**"
      ]
    },
    {
      "cell_type": "code",
      "metadata": {
        "id": "ppy2dd1kkdaW",
        "colab": {
          "base_uri": "https://localhost:8080/"
        },
        "outputId": "1990b1a5-4c61-4914-c01c-acda5fef66a1"
      },
      "source": [
        "#BoW Representation using Tf-idf technique\n",
        "vectorizer = text.TfidfVectorizer(min_df=2,\n",
        "                             sublinear_tf=True,\n",
        "                             use_idf=True,\n",
        "                             binary=True,\n",
        "                             ngram_range = (1, 2),\n",
        "                             stop_words = text.ENGLISH_STOP_WORDS)\n",
        "\n",
        "\n",
        "X_train_vectors = vectorizer.fit_transform(x_train['Review'])\n",
        "X_test_vectors = vectorizer.transform(x_test['Review'])\n",
        "\n",
        "print(\"-------------------------------------------------------------------\")\n",
        "print(\"============ Printing Feature Size (Vocabulary Size) ==============\")\n",
        "print(\"-------------------------------------------------------------------\")\n",
        "print (\"X_train() Features Size: \", len(X_train_vectors.toarray()[0]))\n",
        "print (\"X_test() Features Size: \", len(X_test_vectors.toarray()[0]))\n",
        "\n"
      ],
      "execution_count": 3,
      "outputs": [
        {
          "output_type": "stream",
          "text": [
            "-------------------------------------------------------------------\n",
            "============ Printing Feature Size (Vocabulary Size) ==============\n",
            "-------------------------------------------------------------------\n",
            "X_train() Features Size:  2080\n",
            "X_test() Features Size:  2080\n"
          ],
          "name": "stdout"
        }
      ]
    },
    {
      "cell_type": "markdown",
      "metadata": {
        "id": "Z-qyDoNzUGI0"
      },
      "source": [
        "# **TASK 3: Classification and Evaluation**"
      ]
    },
    {
      "cell_type": "code",
      "metadata": {
        "colab": {
          "base_uri": "https://localhost:8080/"
        },
        "id": "BV7ThjDbNzIN",
        "outputId": "845f49f9-f23a-4e9f-8310-a499471bdc43"
      },
      "source": [
        "#Splitting Train set into train (75%) and validation (25%9) set\n",
        "X_TRAIN, X_VAL, Y_TRAIN, Y_VAL = train_test_split(X_train_vectors, y_train, random_state=45, test_size = 0.25)\n",
        "\n",
        "# Using Logistic Regression Machine Learning Model for sentiment classification\n",
        "LR = LogisticRegression()\n",
        "\n",
        "#Performing Hyperparmeter Tuning and cross-validation\n",
        "\n",
        "# Create regularization solver space\n",
        "solvers = ['newton-cg', 'lbfgs', 'liblinear']\n",
        "# Create regularization penalty space\n",
        "penalty = ['l2']\n",
        "# Create regularization hyperparameter space\n",
        "c_values = np.logspace(0, 4, 20)\n",
        "# Create hyperparameter options\n",
        "hyperparameters = dict(solver=solvers,penalty=penalty,C=c_values)\n",
        "\n",
        "#Using RepeatedStratifiedKFold perform 10 splits for cross validation\n",
        "cv = RepeatedStratifiedKFold(n_splits=10, n_repeats=3, random_state=1)\n",
        "\n",
        "#Finding the Best Values of hyperparameters using GridSearchCV\n",
        "clf = GridSearchCV(estimator=LR, param_grid=hyperparameters, n_jobs=-1, cv=cv, scoring='accuracy',error_score=0)\n",
        "\n",
        "\n",
        "#Fitting the model with Training dataset and labels\n",
        "best_model = clf.fit(X_TRAIN, Y_TRAIN)\n",
        "\n",
        "#Printing the best Hyperparameters value found using GridSearchCV Hyperparameter tuning\n",
        "print(\"------------------------------------------------------------------------------------------------------\")\n",
        "print(\"======= Printing best Solver, C and Penalty parameter value found from hyperparameter tuning =========\")\n",
        "print(\"------------------------------------------------------------------------------------------------------\")\n",
        "print('Best Penalty:', best_model.best_estimator_.get_params()['penalty'])\n",
        "print('Best C:', best_model.best_estimator_.get_params()['C'])\n",
        "print('Best Solver:', best_model.best_estimator_.get_params()['solver'])\n",
        "\n",
        "print(\"----------------------------------------------------------------------------------------------\")\n",
        "print(\"=============== Printing 4-fold cross validation f1 scores and mean f1 score  ================\")\n",
        "print(\"----------------------------------------------------------------------------------------------\")\n",
        "k_fold = RepeatedStratifiedKFold(n_splits=4, n_repeats=1, random_state=1)\n",
        "scores = cross_val_score(best_model, X_TRAIN, Y_TRAIN.values.ravel(), cv=k_fold,scoring='accuracy')\n",
        "print('Cross-Validation Accuracy Scores', scores)\n",
        "scores = pd.Series(scores)\n",
        "print('Mean Cross-Validation Accuracy Score', scores.mean())\n",
        "\n",
        "#Predicting sentiments for test dataset\n",
        "best_model_val = best_model.predict(X_VAL)\n",
        "\n",
        "#Printing the classification report and accuracy of model\n",
        "print(\"-----------------------------------------------------------------------------------------\")\n",
        "print(\"============ Printing classification report of model on validation dataset ==============\")\n",
        "print(\"-----------------------------------------------------------------------------------------\")\n",
        "print(\"Logistic Regression Accuracy Score on Validation dataset :  \",accuracy_score(best_model_val, Y_VAL)*100)\n",
        "print (classification_report(Y_VAL, best_model_val))\n",
        "\n",
        "#Saving the predictions on test dataset to  test labels dataframe\n",
        "print(\"-------------------------------------------------------------------------------------------\")\n",
        "print(\"============ Saving the predictions on val dataset to val labels dataframe ==============\")\n",
        "print(\"-------------------------------------------------------------------------------------------\")\n",
        "Y_VAL['Predicted'] = best_model_val\n",
        "Y_VAL['Correct'] = (Y_VAL['label'] == Y_VAL['Predicted'])\n",
        "print(Y_VAL)\n",
        "\n",
        "\n",
        "\n",
        "#Predicting sentiments for test dataset\n",
        "best_model_pred = best_model.predict(X_test_vectors)\n",
        "\n",
        "#Printing the classification report and accuracy of model\n",
        "print(\"-------------------------------------------------------------------\")\n",
        "print(\"============ Printing classification report of model ==============\")\n",
        "print(\"-------------------------------------------------------------------\")\n",
        "print(\"Logistic Regression Accuracy Score on Test dataset :  \",accuracy_score(best_model_pred, y_test)*100)\n",
        "print (classification_report(y_test, best_model_pred))\n",
        "\n",
        "\n",
        "#Saving the predictions on test dataset to  test labels dataframe\n",
        "print(\"-------------------------------------------------------------------------------------------\")\n",
        "print(\"============ Saving the predictions on test dataset to test labels dataframe ==============\")\n",
        "print(\"-------------------------------------------------------------------------------------------\")\n",
        "x_test['label'] = y_test['label']\n",
        "x_test['Predicted'] = best_model_pred\n",
        "x_test['Correct'] = (x_test['label'] == x_test['Predicted'])\n",
        "x_test[\"Review_len\"] = x_test[\"Review\"].str.split(\" \").str.len()\n",
        "print(x_test)\n",
        "\n"
      ],
      "execution_count": 4,
      "outputs": [
        {
          "output_type": "stream",
          "text": [
            "/usr/local/lib/python3.7/dist-packages/sklearn/utils/validation.py:760: DataConversionWarning: A column-vector y was passed when a 1d array was expected. Please change the shape of y to (n_samples, ), for example using ravel().\n",
            "  y = column_or_1d(y, warn=True)\n"
          ],
          "name": "stderr"
        },
        {
          "output_type": "stream",
          "text": [
            "------------------------------------------------------------------------------------------------------\n",
            "======= Printing best Solver, C and Penalty parameter value found from hyperparameter tuning =========\n",
            "------------------------------------------------------------------------------------------------------\n",
            "Best Penalty: l2\n",
            "Best C: 2.636650898730358\n",
            "Best Solver: liblinear\n",
            "----------------------------------------------------------------------------------------------\n",
            "=============== Printing 4-fold cross validation f1 scores and mean f1 score  ================\n",
            "----------------------------------------------------------------------------------------------\n",
            "Cross-Validation Accuracy Scores [0.79147982 0.83408072 0.81165919 0.79372197]\n",
            "Mean Cross-Validation Accuracy Score 0.8077354260089685\n",
            "-----------------------------------------------------------------------------------------\n",
            "============ Printing classification report of model on validation dataset ==============\n",
            "-----------------------------------------------------------------------------------------\n",
            "Logistic Regression Accuracy Score on Validation dataset :   78.82352941176471\n",
            "              precision    recall  f1-score   support\n",
            "\n",
            "           0       0.76      0.82      0.79       285\n",
            "           1       0.82      0.75      0.79       310\n",
            "\n",
            "    accuracy                           0.79       595\n",
            "   macro avg       0.79      0.79      0.79       595\n",
            "weighted avg       0.79      0.79      0.79       595\n",
            "\n",
            "-------------------------------------------------------------------------------------------\n",
            "============ Saving the predictions on val dataset to val labels dataframe ==============\n",
            "-------------------------------------------------------------------------------------------\n",
            "      label  Predicted  Correct\n",
            "1569      1          0    False\n",
            "1780      0          0     True\n",
            "141       0          0     True\n",
            "1968      0          0     True\n",
            "835       0          0     True\n",
            "...     ...        ...      ...\n",
            "2331      1          0    False\n",
            "1126      0          0     True\n",
            "1670      0          0     True\n",
            "1355      1          0    False\n",
            "786       1          0    False\n",
            "\n",
            "[595 rows x 3 columns]\n",
            "-------------------------------------------------------------------\n",
            "============ Printing classification report of model ==============\n",
            "-------------------------------------------------------------------\n",
            "Logistic Regression Accuracy Score on Test dataset :   77.25752508361204\n",
            "              precision    recall  f1-score   support\n",
            "\n",
            "           0       0.75      0.82      0.78       299\n",
            "           1       0.80      0.73      0.76       299\n",
            "\n",
            "    accuracy                           0.77       598\n",
            "   macro avg       0.77      0.77      0.77       598\n",
            "weighted avg       0.77      0.77      0.77       598\n",
            "\n",
            "-------------------------------------------------------------------------------------------\n",
            "============ Saving the predictions on test dataset to test labels dataframe ==============\n",
            "-------------------------------------------------------------------------------------------\n",
            "     Domain  ... Review_len\n",
            "0    amazon  ...          9\n",
            "1    amazon  ...          6\n",
            "2    amazon  ...         30\n",
            "3    amazon  ...         11\n",
            "4    amazon  ...         22\n",
            "..      ...  ...        ...\n",
            "594    yelp  ...          5\n",
            "595    yelp  ...          5\n",
            "597    yelp  ...          3\n",
            "598    yelp  ...          8\n",
            "599    yelp  ...          6\n",
            "\n",
            "[598 rows x 6 columns]\n"
          ],
          "name": "stdout"
        },
        {
          "output_type": "stream",
          "text": [
            "/usr/local/lib/python3.7/dist-packages/ipykernel_launcher.py:59: SettingWithCopyWarning: \n",
            "A value is trying to be set on a copy of a slice from a DataFrame.\n",
            "Try using .loc[row_indexer,col_indexer] = value instead\n",
            "\n",
            "See the caveats in the documentation: https://pandas.pydata.org/pandas-docs/stable/user_guide/indexing.html#returning-a-view-versus-a-copy\n",
            "/usr/local/lib/python3.7/dist-packages/ipykernel_launcher.py:60: SettingWithCopyWarning: \n",
            "A value is trying to be set on a copy of a slice from a DataFrame.\n",
            "Try using .loc[row_indexer,col_indexer] = value instead\n",
            "\n",
            "See the caveats in the documentation: https://pandas.pydata.org/pandas-docs/stable/user_guide/indexing.html#returning-a-view-versus-a-copy\n"
          ],
          "name": "stderr"
        }
      ]
    },
    {
      "cell_type": "markdown",
      "metadata": {
        "id": "GzPgAKONoCpK"
      },
      "source": [
        "# **Visualisations**"
      ]
    },
    {
      "cell_type": "code",
      "metadata": {
        "id": "ny2PkxD8CZFB",
        "colab": {
          "base_uri": "https://localhost:8080/",
          "height": 487
        },
        "outputId": "cf750176-7a7a-4fa6-fc92-574bf4877304"
      },
      "source": [
        "#Displaying the correct predictions on val dataset \n",
        "print(\"------------------------------------------------------------------------------\")\n",
        "print(\"============ Displaying the correct predictions on val dataset  ==============\")\n",
        "print(\"------------------------------------------------------------------------------\")\n",
        "\n",
        "sns.countplot(x=\"Correct\", hue='label', data=Y_VAL)\n",
        "sns.set(rc={'figure.figsize':(8,8)})"
      ],
      "execution_count": 9,
      "outputs": [
        {
          "output_type": "stream",
          "text": [
            "------------------------------------------------------------------------------\n",
            "============ Displaying the correct predictions on val dataset  ==============\n",
            "------------------------------------------------------------------------------\n"
          ],
          "name": "stdout"
        },
        {
          "output_type": "display_data",
          "data": {
            "image/png": "[encoded data removed]",
            "text/plain": [
              "<Figure size 1440x576 with 1 Axes>"
            ]
          },
          "metadata": {
            "tags": []
          }
        }
      ]
    },
    {
      "cell_type": "code",
      "metadata": {
        "id": "BMq7d3REoGk1",
        "colab": {
          "base_uri": "https://localhost:8080/",
          "height": 553
        },
        "outputId": "a96296aa-0d56-4cc5-e7b9-b94802c9948a"
      },
      "source": [
        "#Displaying the correct predictions on test dataset \n",
        "print(\"-------------------------------------------------------------------------------\")\n",
        "print(\"============ Displaying the correct predictions on test dataset  ==============\")\n",
        "print(\"-------------------------------------------------------------------------------\")\n",
        "\n",
        "sns.countplot(x=\"Correct\", hue='label', data=x_test)\n",
        "sns.set(rc={'figure.figsize':(8,8)})"
      ],
      "execution_count": 6,
      "outputs": [
        {
          "output_type": "stream",
          "text": [
            "-------------------------------------------------------------------------------\n",
            "============ Displaying the correct predictions on test dataset  ==============\n",
            "-------------------------------------------------------------------------------\n"
          ],
          "name": "stdout"
        },
        {
          "output_type": "display_data",
          "data": {
            "image/png": "[encoded data removed]",
            "text/plain": [
              "<Figure size 576x576 with 1 Axes>"
            ]
          },
          "metadata": {
            "tags": []
          }
        }
      ]
    },
    {
      "cell_type": "code",
      "metadata": {
        "id": "LG-DtiWFotlK",
        "colab": {
          "base_uri": "https://localhost:8080/",
          "height": 553
        },
        "outputId": "5fb53519-1b21-4246-8047-22255819db7e"
      },
      "source": [
        "#Displaying the correct predictions on different domains on test dataset\n",
        "print(\"----------------------------------------------------------------------------------------------------\")\n",
        "print(\"============ Displaying the correct predictions on different domains on test dataset  ==============\")\n",
        "print(\"----------------------------------------------------------------------------------------------------\")\n",
        "\n",
        "sns.countplot(x=\"Domain\", hue='Correct', data=x_test)\n",
        "sns.set(rc={'figure.figsize':(8,8)})"
      ],
      "execution_count": 7,
      "outputs": [
        {
          "output_type": "stream",
          "text": [
            "----------------------------------------------------------------------------------------------------\n",
            "============ Displaying the correct predictions on different domains on test dataset  ==============\n",
            "----------------------------------------------------------------------------------------------------\n"
          ],
          "name": "stdout"
        },
        {
          "output_type": "display_data",
          "data": {
            "image/png": "[encoded data removed]",
            "text/plain": [
              "<Figure size 576x576 with 1 Axes>"
            ]
          },
          "metadata": {
            "tags": []
          }
        }
      ]
    },
    {
      "cell_type": "code",
      "metadata": {
        "colab": {
          "base_uri": "https://localhost:8080/",
          "height": 489
        },
        "id": "LCIBJc2p3oZq",
        "outputId": "275bf273-95a4-4fc3-af95-e47e949cb782"
      },
      "source": [
        "#Displaying the correct predictions on different length of reviews on test dataset\n",
        "print(\"--------------------------------------------------------------------------------------------------------------\")\n",
        "print(\"============ Displaying the correct predictions on different length of reviews on test dataset  ==============\")\n",
        "print(\"--------------------------------------------------------------------------------------------------------------\")\n",
        "\n",
        "sns.countplot(x=\"Review_len\", hue='Correct', data=x_test)\n",
        "sns.set(rc={'figure.figsize':(20,8)})"
      ],
      "execution_count": 11,
      "outputs": [
        {
          "output_type": "stream",
          "text": [
            "--------------------------------------------------------------------------------------------------------------\n",
            "============ Displaying the correct predictions on different length of reviews on test dataset  ==============\n",
            "--------------------------------------------------------------------------------------------------------------\n"
          ],
          "name": "stdout"
        },
        {
          "output_type": "display_data",
          "data": {
            "image/png": "[encoded data removed]",
            "text/plain": [
              "<Figure size 1440x576 with 1 Axes>"
            ]
          },
          "metadata": {
            "tags": []
          }
        }
      ]
    }
  ]
}